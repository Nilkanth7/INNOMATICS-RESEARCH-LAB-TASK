{
 "cells": [
  {
   "cell_type": "code",
   "execution_count": 1,
   "id": "0863d0c6",
   "metadata": {},
   "outputs": [],
   "source": [
    "import pandas as pd\n",
    "import numpy as np\n",
    "import matplotlib.pyplot as plt"
   ]
  },
  {
   "cell_type": "code",
   "execution_count": 2,
   "id": "1b965d92",
   "metadata": {},
   "outputs": [],
   "source": [
    "data = pd.read_csv(\"C:\\\\Users\\\\nilka\\\\OneDrive\\\\Desktop\\\\data sc\\\\data_2_var.csv\")"
   ]
  },
  {
   "cell_type": "code",
   "execution_count": 37,
   "id": "711cb1e4",
   "metadata": {},
   "outputs": [
    {
     "data": {
      "text/html": [
       "<div>\n",
       "<style scoped>\n",
       "    .dataframe tbody tr th:only-of-type {\n",
       "        vertical-align: middle;\n",
       "    }\n",
       "\n",
       "    .dataframe tbody tr th {\n",
       "        vertical-align: top;\n",
       "    }\n",
       "\n",
       "    .dataframe thead th {\n",
       "        text-align: right;\n",
       "    }\n",
       "</style>\n",
       "<table border=\"1\" class=\"dataframe\">\n",
       "  <thead>\n",
       "    <tr style=\"text-align: right;\">\n",
       "      <th></th>\n",
       "      <th>X</th>\n",
       "      <th>Y</th>\n",
       "    </tr>\n",
       "  </thead>\n",
       "  <tbody>\n",
       "    <tr>\n",
       "      <th>0</th>\n",
       "      <td>-122.740667</td>\n",
       "      <td>-130.572085</td>\n",
       "    </tr>\n",
       "    <tr>\n",
       "      <th>1</th>\n",
       "      <td>-121.531419</td>\n",
       "      <td>-129.938929</td>\n",
       "    </tr>\n",
       "    <tr>\n",
       "      <th>2</th>\n",
       "      <td>-134.917019</td>\n",
       "      <td>-130.141832</td>\n",
       "    </tr>\n",
       "    <tr>\n",
       "      <th>3</th>\n",
       "      <td>-120.605951</td>\n",
       "      <td>-125.760932</td>\n",
       "    </tr>\n",
       "    <tr>\n",
       "      <th>4</th>\n",
       "      <td>-129.894781</td>\n",
       "      <td>-112.785214</td>\n",
       "    </tr>\n",
       "  </tbody>\n",
       "</table>\n",
       "</div>"
      ],
      "text/plain": [
       "            X           Y\n",
       "0 -122.740667 -130.572085\n",
       "1 -121.531419 -129.938929\n",
       "2 -134.917019 -130.141832\n",
       "3 -120.605951 -125.760932\n",
       "4 -129.894781 -112.785214"
      ]
     },
     "execution_count": 37,
     "metadata": {},
     "output_type": "execute_result"
    }
   ],
   "source": [
    "data.head()"
   ]
  },
  {
   "cell_type": "markdown",
   "id": "1236c486",
   "metadata": {},
   "source": [
    "# EDA"
   ]
  },
  {
   "cell_type": "code",
   "execution_count": 4,
   "id": "487e26cd",
   "metadata": {},
   "outputs": [
    {
     "name": "stdout",
     "output_type": "stream",
     "text": [
      "<class 'pandas.core.frame.DataFrame'>\n",
      "RangeIndex: 1111 entries, 0 to 1110\n",
      "Data columns (total 2 columns):\n",
      " #   Column  Non-Null Count  Dtype  \n",
      "---  ------  --------------  -----  \n",
      " 0   X       1111 non-null   float64\n",
      " 1   Y       1111 non-null   float64\n",
      "dtypes: float64(2)\n",
      "memory usage: 17.5 KB\n"
     ]
    }
   ],
   "source": [
    "data.info()"
   ]
  },
  {
   "cell_type": "markdown",
   "id": "a7ec28d7",
   "metadata": {},
   "source": [
    "+ So data has no null  entries"
   ]
  },
  {
   "cell_type": "code",
   "execution_count": 5,
   "id": "f93ec9a2",
   "metadata": {},
   "outputs": [
    {
     "data": {
      "text/html": [
       "<div>\n",
       "<style scoped>\n",
       "    .dataframe tbody tr th:only-of-type {\n",
       "        vertical-align: middle;\n",
       "    }\n",
       "\n",
       "    .dataframe tbody tr th {\n",
       "        vertical-align: top;\n",
       "    }\n",
       "\n",
       "    .dataframe thead th {\n",
       "        text-align: right;\n",
       "    }\n",
       "</style>\n",
       "<table border=\"1\" class=\"dataframe\">\n",
       "  <thead>\n",
       "    <tr style=\"text-align: right;\">\n",
       "      <th></th>\n",
       "      <th>X</th>\n",
       "      <th>Y</th>\n",
       "    </tr>\n",
       "  </thead>\n",
       "  <tbody>\n",
       "    <tr>\n",
       "      <th>count</th>\n",
       "      <td>1111.000000</td>\n",
       "      <td>1111.000000</td>\n",
       "    </tr>\n",
       "    <tr>\n",
       "      <th>mean</th>\n",
       "      <td>6.783026</td>\n",
       "      <td>-26.187358</td>\n",
       "    </tr>\n",
       "    <tr>\n",
       "      <th>std</th>\n",
       "      <td>79.383668</td>\n",
       "      <td>69.794973</td>\n",
       "    </tr>\n",
       "    <tr>\n",
       "      <th>min</th>\n",
       "      <td>-134.962839</td>\n",
       "      <td>-132.422167</td>\n",
       "    </tr>\n",
       "    <tr>\n",
       "      <th>25%</th>\n",
       "      <td>-53.521987</td>\n",
       "      <td>-77.000000</td>\n",
       "    </tr>\n",
       "    <tr>\n",
       "      <th>50%</th>\n",
       "      <td>15.737782</td>\n",
       "      <td>-46.072638</td>\n",
       "    </tr>\n",
       "    <tr>\n",
       "      <th>75%</th>\n",
       "      <td>76.134647</td>\n",
       "      <td>7.435231</td>\n",
       "    </tr>\n",
       "    <tr>\n",
       "      <th>max</th>\n",
       "      <td>134.605775</td>\n",
       "      <td>134.425495</td>\n",
       "    </tr>\n",
       "  </tbody>\n",
       "</table>\n",
       "</div>"
      ],
      "text/plain": [
       "                 X            Y\n",
       "count  1111.000000  1111.000000\n",
       "mean      6.783026   -26.187358\n",
       "std      79.383668    69.794973\n",
       "min    -134.962839  -132.422167\n",
       "25%     -53.521987   -77.000000\n",
       "50%      15.737782   -46.072638\n",
       "75%      76.134647     7.435231\n",
       "max     134.605775   134.425495"
      ]
     },
     "execution_count": 5,
     "metadata": {},
     "output_type": "execute_result"
    }
   ],
   "source": [
    "data.describe()"
   ]
  },
  {
   "cell_type": "code",
   "execution_count": 6,
   "id": "87bed522",
   "metadata": {},
   "outputs": [
    {
     "data": {
      "text/plain": [
       "<AxesSubplot:>"
      ]
     },
     "execution_count": 6,
     "metadata": {},
     "output_type": "execute_result"
    },
    {
     "data": {
      "image/png": "[encoded data removed]",
      "text/plain": [
       "<Figure size 432x288 with 1 Axes>"
      ]
     },
     "metadata": {
      "needs_background": "light"
     },
     "output_type": "display_data"
    }
   ],
   "source": [
    "data.X.hist()"
   ]
  },
  {
   "cell_type": "code",
   "execution_count": 7,
   "id": "0634c367",
   "metadata": {},
   "outputs": [
    {
     "data": {
      "text/plain": [
       "<AxesSubplot:>"
      ]
     },
     "execution_count": 7,
     "metadata": {},
     "output_type": "execute_result"
    },
    {
     "data": {
      "image/png": "[encoded data removed]",
      "text/plain": [
       "<Figure size 432x288 with 1 Axes>"
      ]
     },
     "metadata": {
      "needs_background": "light"
     },
     "output_type": "display_data"
    }
   ],
   "source": [
    "data.Y.hist()"
   ]
  },
  {
   "cell_type": "markdown",
   "id": "71d04d56",
   "metadata": {},
   "source": [
    "### We see both columns X and Y are not normally distributed"
   ]
  },
  {
   "cell_type": "code",
   "execution_count": 8,
   "id": "0413238d",
   "metadata": {},
   "outputs": [
    {
     "name": "stdout",
     "output_type": "stream",
     "text": [
      "Kurtossis for X : -1.1565964254850356\n",
      "Kurtossis for Y : -0.2847949723366172\n"
     ]
    }
   ],
   "source": [
    "print(\"Kurtossis for X :\" ,data.X.kurt())\n",
    "print(\"Kurtossis for Y :\" ,data.Y.kurt())"
   ]
  },
  {
   "cell_type": "code",
   "execution_count": 9,
   "id": "42e141f3",
   "metadata": {},
   "outputs": [
    {
     "name": "stdout",
     "output_type": "stream",
     "text": [
      "Skewness for X : -0.2681862847300423\n",
      "Skewness for Y : 0.9078899958067838\n"
     ]
    }
   ],
   "source": [
    "print(\"Skewness for X :\" ,data.X.skew())\n",
    "print(\"Skewness for Y :\" ,data.Y.skew())"
   ]
  },
  {
   "cell_type": "code",
   "execution_count": 10,
   "id": "1dbb8a0f",
   "metadata": {},
   "outputs": [
    {
     "data": {
      "text/plain": [
       "{'whiskers': [<matplotlib.lines.Line2D at 0x18bbe157d90>,\n",
       "  <matplotlib.lines.Line2D at 0x18bbe16b0d0>],\n",
       " 'caps': [<matplotlib.lines.Line2D at 0x18bbe16b460>,\n",
       "  <matplotlib.lines.Line2D at 0x18bbe16b7f0>],\n",
       " 'boxes': [<matplotlib.lines.Line2D at 0x18bbe157940>],\n",
       " 'medians': [<matplotlib.lines.Line2D at 0x18bbe16bb80>],\n",
       " 'fliers': [<matplotlib.lines.Line2D at 0x18bbe16bf10>],\n",
       " 'means': []}"
      ]
     },
     "execution_count": 10,
     "metadata": {},
     "output_type": "execute_result"
    },
    {
     "data": {
      "image/png": "[encoded data removed]",
      "text/plain": [
       "<Figure size 432x288 with 1 Axes>"
      ]
     },
     "metadata": {
      "needs_background": "light"
     },
     "output_type": "display_data"
    }
   ],
   "source": [
    "plt.boxplot(data.X)"
   ]
  },
  {
   "cell_type": "code",
   "execution_count": 11,
   "id": "8ec58a89",
   "metadata": {},
   "outputs": [
    {
     "data": {
      "text/plain": [
       "{'whiskers': [<matplotlib.lines.Line2D at 0x18bbe1d14c0>,\n",
       "  <matplotlib.lines.Line2D at 0x18bbe1d1850>],\n",
       " 'caps': [<matplotlib.lines.Line2D at 0x18bbe1d1be0>,\n",
       "  <matplotlib.lines.Line2D at 0x18bbe1d1f70>],\n",
       " 'boxes': [<matplotlib.lines.Line2D at 0x18bbe1d1130>],\n",
       " 'medians': [<matplotlib.lines.Line2D at 0x18bbe1d9340>],\n",
       " 'fliers': [<matplotlib.lines.Line2D at 0x18bbe1d96d0>],\n",
       " 'means': []}"
      ]
     },
     "execution_count": 11,
     "metadata": {},
     "output_type": "execute_result"
    },
    {
     "data": {
      "image/png": "[encoded data removed]",
      "text/plain": [
       "<Figure size 432x288 with 1 Axes>"
      ]
     },
     "metadata": {
      "needs_background": "light"
     },
     "output_type": "display_data"
    }
   ],
   "source": [
    "plt.boxplot(data.X)"
   ]
  },
  {
   "cell_type": "markdown",
   "id": "b7139cf5",
   "metadata": {},
   "source": [
    "### The box plots shows no outliers for either of the column"
   ]
  },
  {
   "cell_type": "code",
   "execution_count": 12,
   "id": "a38e2266",
   "metadata": {},
   "outputs": [
    {
     "data": {
      "text/plain": [
       "Text(0, 0.5, 'Y')"
      ]
     },
     "execution_count": 12,
     "metadata": {},
     "output_type": "execute_result"
    },
    {
     "data": {
      "image/png": "[encoded data removed]",
      "text/plain": [
       "<Figure size 432x288 with 1 Axes>"
      ]
     },
     "metadata": {
      "needs_background": "light"
     },
     "output_type": "display_data"
    }
   ],
   "source": [
    "plt.scatter(data.X,data.Y)\n",
    "plt.xlabel(\"X\")\n",
    "plt.ylabel(\"Y\")"
   ]
  },
  {
   "cell_type": "markdown",
   "id": "6e552d45",
   "metadata": {},
   "source": [
    "+ Scatter plot between X and Y does not show a linear relationship between them. So First we will perform Feature engineering on the columns and try to make relation between X and Y linear."
   ]
  },
  {
   "cell_type": "markdown",
   "id": "9a25ff63",
   "metadata": {},
   "source": [
    "+ We see that all the records are forming proper pattern but few data points which are having value of X less than 50 and value of Y greater than 50 are forming a separate cluster."
   ]
  },
  {
   "cell_type": "markdown",
   "id": "d32b4637",
   "metadata": {},
   "source": [
    "+  From visual inspection of scatter plot ,We see that the records whose X values are positve are following a linear relationship with Y and values of X less than 0 are having Polynomial relation with Y."
   ]
  },
  {
   "cell_type": "code",
   "execution_count": 13,
   "id": "8c2f718d",
   "metadata": {},
   "outputs": [
    {
     "data": {
      "text/html": [
       "<div>\n",
       "<style scoped>\n",
       "    .dataframe tbody tr th:only-of-type {\n",
       "        vertical-align: middle;\n",
       "    }\n",
       "\n",
       "    .dataframe tbody tr th {\n",
       "        vertical-align: top;\n",
       "    }\n",
       "\n",
       "    .dataframe thead th {\n",
       "        text-align: right;\n",
       "    }\n",
       "</style>\n",
       "<table border=\"1\" class=\"dataframe\">\n",
       "  <thead>\n",
       "    <tr style=\"text-align: right;\">\n",
       "      <th></th>\n",
       "      <th>X</th>\n",
       "      <th>Y</th>\n",
       "    </tr>\n",
       "  </thead>\n",
       "  <tbody>\n",
       "    <tr>\n",
       "      <th>1072</th>\n",
       "      <td>-125.366669</td>\n",
       "      <td>131.000000</td>\n",
       "    </tr>\n",
       "    <tr>\n",
       "      <th>1073</th>\n",
       "      <td>-114.508654</td>\n",
       "      <td>132.424802</td>\n",
       "    </tr>\n",
       "    <tr>\n",
       "      <th>1074</th>\n",
       "      <td>-125.366669</td>\n",
       "      <td>131.000000</td>\n",
       "    </tr>\n",
       "    <tr>\n",
       "      <th>1075</th>\n",
       "      <td>-125.366669</td>\n",
       "      <td>131.000000</td>\n",
       "    </tr>\n",
       "    <tr>\n",
       "      <th>1076</th>\n",
       "      <td>-126.029114</td>\n",
       "      <td>123.060597</td>\n",
       "    </tr>\n",
       "    <tr>\n",
       "      <th>1077</th>\n",
       "      <td>-106.093619</td>\n",
       "      <td>118.532422</td>\n",
       "    </tr>\n",
       "    <tr>\n",
       "      <th>1078</th>\n",
       "      <td>-125.366669</td>\n",
       "      <td>131.000000</td>\n",
       "    </tr>\n",
       "    <tr>\n",
       "      <th>1079</th>\n",
       "      <td>-116.197531</td>\n",
       "      <td>126.190248</td>\n",
       "    </tr>\n",
       "    <tr>\n",
       "      <th>1080</th>\n",
       "      <td>-125.366669</td>\n",
       "      <td>131.000000</td>\n",
       "    </tr>\n",
       "    <tr>\n",
       "      <th>1081</th>\n",
       "      <td>-111.529664</td>\n",
       "      <td>133.579278</td>\n",
       "    </tr>\n",
       "    <tr>\n",
       "      <th>1082</th>\n",
       "      <td>-125.366669</td>\n",
       "      <td>131.000000</td>\n",
       "    </tr>\n",
       "    <tr>\n",
       "      <th>1083</th>\n",
       "      <td>-132.359238</td>\n",
       "      <td>112.246716</td>\n",
       "    </tr>\n",
       "    <tr>\n",
       "      <th>1084</th>\n",
       "      <td>-125.366669</td>\n",
       "      <td>131.000000</td>\n",
       "    </tr>\n",
       "    <tr>\n",
       "      <th>1085</th>\n",
       "      <td>-110.784447</td>\n",
       "      <td>128.940195</td>\n",
       "    </tr>\n",
       "    <tr>\n",
       "      <th>1086</th>\n",
       "      <td>-112.467825</td>\n",
       "      <td>131.374738</td>\n",
       "    </tr>\n",
       "    <tr>\n",
       "      <th>1087</th>\n",
       "      <td>-125.366669</td>\n",
       "      <td>131.000000</td>\n",
       "    </tr>\n",
       "    <tr>\n",
       "      <th>1088</th>\n",
       "      <td>-117.609424</td>\n",
       "      <td>128.249695</td>\n",
       "    </tr>\n",
       "    <tr>\n",
       "      <th>1089</th>\n",
       "      <td>-125.366669</td>\n",
       "      <td>131.000000</td>\n",
       "    </tr>\n",
       "    <tr>\n",
       "      <th>1090</th>\n",
       "      <td>-118.632322</td>\n",
       "      <td>128.812515</td>\n",
       "    </tr>\n",
       "    <tr>\n",
       "      <th>1091</th>\n",
       "      <td>-124.366669</td>\n",
       "      <td>121.000000</td>\n",
       "    </tr>\n",
       "    <tr>\n",
       "      <th>1092</th>\n",
       "      <td>-124.237735</td>\n",
       "      <td>124.357397</td>\n",
       "    </tr>\n",
       "    <tr>\n",
       "      <th>1093</th>\n",
       "      <td>-122.813233</td>\n",
       "      <td>117.690062</td>\n",
       "    </tr>\n",
       "    <tr>\n",
       "      <th>1094</th>\n",
       "      <td>-125.905898</td>\n",
       "      <td>122.217012</td>\n",
       "    </tr>\n",
       "    <tr>\n",
       "      <th>1095</th>\n",
       "      <td>-122.657287</td>\n",
       "      <td>114.233174</td>\n",
       "    </tr>\n",
       "    <tr>\n",
       "      <th>1096</th>\n",
       "      <td>-124.366669</td>\n",
       "      <td>121.000000</td>\n",
       "    </tr>\n",
       "    <tr>\n",
       "      <th>1097</th>\n",
       "      <td>-121.687849</td>\n",
       "      <td>127.444778</td>\n",
       "    </tr>\n",
       "    <tr>\n",
       "      <th>1098</th>\n",
       "      <td>-130.878119</td>\n",
       "      <td>124.317133</td>\n",
       "    </tr>\n",
       "    <tr>\n",
       "      <th>1099</th>\n",
       "      <td>-131.883286</td>\n",
       "      <td>121.266110</td>\n",
       "    </tr>\n",
       "    <tr>\n",
       "      <th>1100</th>\n",
       "      <td>-123.371849</td>\n",
       "      <td>123.189683</td>\n",
       "    </tr>\n",
       "    <tr>\n",
       "      <th>1101</th>\n",
       "      <td>-115.366669</td>\n",
       "      <td>121.000000</td>\n",
       "    </tr>\n",
       "    <tr>\n",
       "      <th>1102</th>\n",
       "      <td>-122.657676</td>\n",
       "      <td>124.699202</td>\n",
       "    </tr>\n",
       "    <tr>\n",
       "      <th>1103</th>\n",
       "      <td>-122.879792</td>\n",
       "      <td>125.834014</td>\n",
       "    </tr>\n",
       "    <tr>\n",
       "      <th>1104</th>\n",
       "      <td>-117.945503</td>\n",
       "      <td>126.797385</td>\n",
       "    </tr>\n",
       "    <tr>\n",
       "      <th>1105</th>\n",
       "      <td>-112.018496</td>\n",
       "      <td>121.096397</td>\n",
       "    </tr>\n",
       "    <tr>\n",
       "      <th>1106</th>\n",
       "      <td>-115.366669</td>\n",
       "      <td>121.000000</td>\n",
       "    </tr>\n",
       "    <tr>\n",
       "      <th>1107</th>\n",
       "      <td>-119.954237</td>\n",
       "      <td>123.609122</td>\n",
       "    </tr>\n",
       "    <tr>\n",
       "      <th>1108</th>\n",
       "      <td>-109.942155</td>\n",
       "      <td>127.197394</td>\n",
       "    </tr>\n",
       "    <tr>\n",
       "      <th>1109</th>\n",
       "      <td>-111.515368</td>\n",
       "      <td>128.170885</td>\n",
       "    </tr>\n",
       "    <tr>\n",
       "      <th>1110</th>\n",
       "      <td>-110.344221</td>\n",
       "      <td>123.087950</td>\n",
       "    </tr>\n",
       "  </tbody>\n",
       "</table>\n",
       "</div>"
      ],
      "text/plain": [
       "               X           Y\n",
       "1072 -125.366669  131.000000\n",
       "1073 -114.508654  132.424802\n",
       "1074 -125.366669  131.000000\n",
       "1075 -125.366669  131.000000\n",
       "1076 -126.029114  123.060597\n",
       "1077 -106.093619  118.532422\n",
       "1078 -125.366669  131.000000\n",
       "1079 -116.197531  126.190248\n",
       "1080 -125.366669  131.000000\n",
       "1081 -111.529664  133.579278\n",
       "1082 -125.366669  131.000000\n",
       "1083 -132.359238  112.246716\n",
       "1084 -125.366669  131.000000\n",
       "1085 -110.784447  128.940195\n",
       "1086 -112.467825  131.374738\n",
       "1087 -125.366669  131.000000\n",
       "1088 -117.609424  128.249695\n",
       "1089 -125.366669  131.000000\n",
       "1090 -118.632322  128.812515\n",
       "1091 -124.366669  121.000000\n",
       "1092 -124.237735  124.357397\n",
       "1093 -122.813233  117.690062\n",
       "1094 -125.905898  122.217012\n",
       "1095 -122.657287  114.233174\n",
       "1096 -124.366669  121.000000\n",
       "1097 -121.687849  127.444778\n",
       "1098 -130.878119  124.317133\n",
       "1099 -131.883286  121.266110\n",
       "1100 -123.371849  123.189683\n",
       "1101 -115.366669  121.000000\n",
       "1102 -122.657676  124.699202\n",
       "1103 -122.879792  125.834014\n",
       "1104 -117.945503  126.797385\n",
       "1105 -112.018496  121.096397\n",
       "1106 -115.366669  121.000000\n",
       "1107 -119.954237  123.609122\n",
       "1108 -109.942155  127.197394\n",
       "1109 -111.515368  128.170885\n",
       "1110 -110.344221  123.087950"
      ]
     },
     "execution_count": 13,
     "metadata": {},
     "output_type": "execute_result"
    }
   ],
   "source": [
    "df = data[(data.X<-50) & (data.Y>50)]\n",
    "df\n"
   ]
  },
  {
   "cell_type": "markdown",
   "id": "7dd8dc0c",
   "metadata": {},
   "source": [
    "+ There are 39 records with the with the condition mentioned above."
   ]
  },
  {
   "cell_type": "code",
   "execution_count": 14,
   "id": "430c7e31",
   "metadata": {},
   "outputs": [
    {
     "data": {
      "text/html": [
       "<div>\n",
       "<style scoped>\n",
       "    .dataframe tbody tr th:only-of-type {\n",
       "        vertical-align: middle;\n",
       "    }\n",
       "\n",
       "    .dataframe tbody tr th {\n",
       "        vertical-align: top;\n",
       "    }\n",
       "\n",
       "    .dataframe thead th {\n",
       "        text-align: right;\n",
       "    }\n",
       "</style>\n",
       "<table border=\"1\" class=\"dataframe\">\n",
       "  <thead>\n",
       "    <tr style=\"text-align: right;\">\n",
       "      <th></th>\n",
       "      <th>X</th>\n",
       "      <th>Y</th>\n",
       "    </tr>\n",
       "  </thead>\n",
       "  <tbody>\n",
       "    <tr>\n",
       "      <th>0</th>\n",
       "      <td>-122.740667</td>\n",
       "      <td>-130.572085</td>\n",
       "    </tr>\n",
       "    <tr>\n",
       "      <th>1</th>\n",
       "      <td>-121.531419</td>\n",
       "      <td>-129.938929</td>\n",
       "    </tr>\n",
       "    <tr>\n",
       "      <th>2</th>\n",
       "      <td>-134.917019</td>\n",
       "      <td>-130.141832</td>\n",
       "    </tr>\n",
       "    <tr>\n",
       "      <th>3</th>\n",
       "      <td>-120.605951</td>\n",
       "      <td>-125.760932</td>\n",
       "    </tr>\n",
       "    <tr>\n",
       "      <th>4</th>\n",
       "      <td>-129.894781</td>\n",
       "      <td>-112.785214</td>\n",
       "    </tr>\n",
       "    <tr>\n",
       "      <th>...</th>\n",
       "      <td>...</td>\n",
       "      <td>...</td>\n",
       "    </tr>\n",
       "    <tr>\n",
       "      <th>863</th>\n",
       "      <td>-131.366669</td>\n",
       "      <td>-125.000000</td>\n",
       "    </tr>\n",
       "    <tr>\n",
       "      <th>864</th>\n",
       "      <td>-129.565624</td>\n",
       "      <td>-122.630005</td>\n",
       "    </tr>\n",
       "    <tr>\n",
       "      <th>865</th>\n",
       "      <td>-131.366669</td>\n",
       "      <td>-125.000000</td>\n",
       "    </tr>\n",
       "    <tr>\n",
       "      <th>866</th>\n",
       "      <td>-134.312702</td>\n",
       "      <td>-109.974165</td>\n",
       "    </tr>\n",
       "    <tr>\n",
       "      <th>867</th>\n",
       "      <td>-134.407988</td>\n",
       "      <td>-125.921497</td>\n",
       "    </tr>\n",
       "  </tbody>\n",
       "</table>\n",
       "<p>145 rows × 2 columns</p>\n",
       "</div>"
      ],
      "text/plain": [
       "              X           Y\n",
       "0   -122.740667 -130.572085\n",
       "1   -121.531419 -129.938929\n",
       "2   -134.917019 -130.141832\n",
       "3   -120.605951 -125.760932\n",
       "4   -129.894781 -112.785214\n",
       "..          ...         ...\n",
       "863 -131.366669 -125.000000\n",
       "864 -129.565624 -122.630005\n",
       "865 -131.366669 -125.000000\n",
       "866 -134.312702 -109.974165\n",
       "867 -134.407988 -125.921497\n",
       "\n",
       "[145 rows x 2 columns]"
      ]
     },
     "execution_count": 14,
     "metadata": {},
     "output_type": "execute_result"
    }
   ],
   "source": [
    "data[(data.X<-100) & (data.Y<100)]"
   ]
  },
  {
   "cell_type": "markdown",
   "id": "615349aa",
   "metadata": {},
   "source": [
    "+ So we see that the data which are forming a cluster are in complete sequence of index. Also for similar range of X the absolute value of Y are same but the cluster has negative sign attached to it. So there is a high chance that the actual value of Y are negative for that cluster but is entered wrongly as postive.\n",
    "\n",
    "+ So I replace those Positive value of Y with corresponding negative values."
   ]
  },
  {
   "cell_type": "code",
   "execution_count": 15,
   "id": "e03631bc",
   "metadata": {},
   "outputs": [],
   "source": [
    "Y_neg = []\n",
    "for i in df.iloc[:,1]:\n",
    "    Y_neg.append (-i)\n",
    "    "
   ]
  },
  {
   "cell_type": "code",
   "execution_count": 16,
   "id": "3111ab4b",
   "metadata": {},
   "outputs": [],
   "source": [
    "Y_neg_df =pd.DataFrame(Y_neg)\n"
   ]
  },
  {
   "cell_type": "code",
   "execution_count": 17,
   "id": "85e181bd",
   "metadata": {},
   "outputs": [],
   "source": [
    "X_neg_df = pd.DataFrame(df.X).reset_index()\n",
    "X_neg_df.drop(columns = 'index',inplace=True)"
   ]
  },
  {
   "cell_type": "code",
   "execution_count": 35,
   "id": "461ddcdc",
   "metadata": {},
   "outputs": [
    {
     "data": {
      "text/html": [
       "<div>\n",
       "<style scoped>\n",
       "    .dataframe tbody tr th:only-of-type {\n",
       "        vertical-align: middle;\n",
       "    }\n",
       "\n",
       "    .dataframe tbody tr th {\n",
       "        vertical-align: top;\n",
       "    }\n",
       "\n",
       "    .dataframe thead th {\n",
       "        text-align: right;\n",
       "    }\n",
       "</style>\n",
       "<table border=\"1\" class=\"dataframe\">\n",
       "  <thead>\n",
       "    <tr style=\"text-align: right;\">\n",
       "      <th></th>\n",
       "      <th>X</th>\n",
       "      <th>Y</th>\n",
       "    </tr>\n",
       "  </thead>\n",
       "  <tbody>\n",
       "    <tr>\n",
       "      <th>0</th>\n",
       "      <td>-125.366669</td>\n",
       "      <td>-131.000000</td>\n",
       "    </tr>\n",
       "    <tr>\n",
       "      <th>1</th>\n",
       "      <td>-114.508654</td>\n",
       "      <td>-132.424802</td>\n",
       "    </tr>\n",
       "    <tr>\n",
       "      <th>2</th>\n",
       "      <td>-125.366669</td>\n",
       "      <td>-131.000000</td>\n",
       "    </tr>\n",
       "    <tr>\n",
       "      <th>3</th>\n",
       "      <td>-125.366669</td>\n",
       "      <td>-131.000000</td>\n",
       "    </tr>\n",
       "    <tr>\n",
       "      <th>4</th>\n",
       "      <td>-126.029114</td>\n",
       "      <td>-123.060597</td>\n",
       "    </tr>\n",
       "    <tr>\n",
       "      <th>5</th>\n",
       "      <td>-106.093619</td>\n",
       "      <td>-118.532422</td>\n",
       "    </tr>\n",
       "    <tr>\n",
       "      <th>6</th>\n",
       "      <td>-125.366669</td>\n",
       "      <td>-131.000000</td>\n",
       "    </tr>\n",
       "    <tr>\n",
       "      <th>7</th>\n",
       "      <td>-116.197531</td>\n",
       "      <td>-126.190248</td>\n",
       "    </tr>\n",
       "    <tr>\n",
       "      <th>8</th>\n",
       "      <td>-125.366669</td>\n",
       "      <td>-131.000000</td>\n",
       "    </tr>\n",
       "    <tr>\n",
       "      <th>9</th>\n",
       "      <td>-111.529664</td>\n",
       "      <td>-133.579278</td>\n",
       "    </tr>\n",
       "    <tr>\n",
       "      <th>10</th>\n",
       "      <td>-125.366669</td>\n",
       "      <td>-131.000000</td>\n",
       "    </tr>\n",
       "    <tr>\n",
       "      <th>11</th>\n",
       "      <td>-132.359238</td>\n",
       "      <td>-112.246716</td>\n",
       "    </tr>\n",
       "    <tr>\n",
       "      <th>12</th>\n",
       "      <td>-125.366669</td>\n",
       "      <td>-131.000000</td>\n",
       "    </tr>\n",
       "    <tr>\n",
       "      <th>13</th>\n",
       "      <td>-110.784447</td>\n",
       "      <td>-128.940195</td>\n",
       "    </tr>\n",
       "    <tr>\n",
       "      <th>14</th>\n",
       "      <td>-112.467825</td>\n",
       "      <td>-131.374738</td>\n",
       "    </tr>\n",
       "    <tr>\n",
       "      <th>15</th>\n",
       "      <td>-125.366669</td>\n",
       "      <td>-131.000000</td>\n",
       "    </tr>\n",
       "    <tr>\n",
       "      <th>16</th>\n",
       "      <td>-117.609424</td>\n",
       "      <td>-128.249695</td>\n",
       "    </tr>\n",
       "    <tr>\n",
       "      <th>17</th>\n",
       "      <td>-125.366669</td>\n",
       "      <td>-131.000000</td>\n",
       "    </tr>\n",
       "    <tr>\n",
       "      <th>18</th>\n",
       "      <td>-118.632322</td>\n",
       "      <td>-128.812515</td>\n",
       "    </tr>\n",
       "    <tr>\n",
       "      <th>19</th>\n",
       "      <td>-124.366669</td>\n",
       "      <td>-121.000000</td>\n",
       "    </tr>\n",
       "    <tr>\n",
       "      <th>20</th>\n",
       "      <td>-124.237735</td>\n",
       "      <td>-124.357397</td>\n",
       "    </tr>\n",
       "    <tr>\n",
       "      <th>21</th>\n",
       "      <td>-122.813233</td>\n",
       "      <td>-117.690062</td>\n",
       "    </tr>\n",
       "    <tr>\n",
       "      <th>22</th>\n",
       "      <td>-125.905898</td>\n",
       "      <td>-122.217012</td>\n",
       "    </tr>\n",
       "    <tr>\n",
       "      <th>23</th>\n",
       "      <td>-122.657287</td>\n",
       "      <td>-114.233174</td>\n",
       "    </tr>\n",
       "    <tr>\n",
       "      <th>24</th>\n",
       "      <td>-124.366669</td>\n",
       "      <td>-121.000000</td>\n",
       "    </tr>\n",
       "    <tr>\n",
       "      <th>25</th>\n",
       "      <td>-121.687849</td>\n",
       "      <td>-127.444778</td>\n",
       "    </tr>\n",
       "    <tr>\n",
       "      <th>26</th>\n",
       "      <td>-130.878119</td>\n",
       "      <td>-124.317133</td>\n",
       "    </tr>\n",
       "    <tr>\n",
       "      <th>27</th>\n",
       "      <td>-131.883286</td>\n",
       "      <td>-121.266110</td>\n",
       "    </tr>\n",
       "    <tr>\n",
       "      <th>28</th>\n",
       "      <td>-123.371849</td>\n",
       "      <td>-123.189683</td>\n",
       "    </tr>\n",
       "    <tr>\n",
       "      <th>29</th>\n",
       "      <td>-115.366669</td>\n",
       "      <td>-121.000000</td>\n",
       "    </tr>\n",
       "    <tr>\n",
       "      <th>30</th>\n",
       "      <td>-122.657676</td>\n",
       "      <td>-124.699202</td>\n",
       "    </tr>\n",
       "    <tr>\n",
       "      <th>31</th>\n",
       "      <td>-122.879792</td>\n",
       "      <td>-125.834014</td>\n",
       "    </tr>\n",
       "    <tr>\n",
       "      <th>32</th>\n",
       "      <td>-117.945503</td>\n",
       "      <td>-126.797385</td>\n",
       "    </tr>\n",
       "    <tr>\n",
       "      <th>33</th>\n",
       "      <td>-112.018496</td>\n",
       "      <td>-121.096397</td>\n",
       "    </tr>\n",
       "    <tr>\n",
       "      <th>34</th>\n",
       "      <td>-115.366669</td>\n",
       "      <td>-121.000000</td>\n",
       "    </tr>\n",
       "    <tr>\n",
       "      <th>35</th>\n",
       "      <td>-119.954237</td>\n",
       "      <td>-123.609122</td>\n",
       "    </tr>\n",
       "    <tr>\n",
       "      <th>36</th>\n",
       "      <td>-109.942155</td>\n",
       "      <td>-127.197394</td>\n",
       "    </tr>\n",
       "    <tr>\n",
       "      <th>37</th>\n",
       "      <td>-111.515368</td>\n",
       "      <td>-128.170885</td>\n",
       "    </tr>\n",
       "    <tr>\n",
       "      <th>38</th>\n",
       "      <td>-110.344221</td>\n",
       "      <td>-123.087950</td>\n",
       "    </tr>\n",
       "  </tbody>\n",
       "</table>\n",
       "</div>"
      ],
      "text/plain": [
       "             X           Y\n",
       "0  -125.366669 -131.000000\n",
       "1  -114.508654 -132.424802\n",
       "2  -125.366669 -131.000000\n",
       "3  -125.366669 -131.000000\n",
       "4  -126.029114 -123.060597\n",
       "5  -106.093619 -118.532422\n",
       "6  -125.366669 -131.000000\n",
       "7  -116.197531 -126.190248\n",
       "8  -125.366669 -131.000000\n",
       "9  -111.529664 -133.579278\n",
       "10 -125.366669 -131.000000\n",
       "11 -132.359238 -112.246716\n",
       "12 -125.366669 -131.000000\n",
       "13 -110.784447 -128.940195\n",
       "14 -112.467825 -131.374738\n",
       "15 -125.366669 -131.000000\n",
       "16 -117.609424 -128.249695\n",
       "17 -125.366669 -131.000000\n",
       "18 -118.632322 -128.812515\n",
       "19 -124.366669 -121.000000\n",
       "20 -124.237735 -124.357397\n",
       "21 -122.813233 -117.690062\n",
       "22 -125.905898 -122.217012\n",
       "23 -122.657287 -114.233174\n",
       "24 -124.366669 -121.000000\n",
       "25 -121.687849 -127.444778\n",
       "26 -130.878119 -124.317133\n",
       "27 -131.883286 -121.266110\n",
       "28 -123.371849 -123.189683\n",
       "29 -115.366669 -121.000000\n",
       "30 -122.657676 -124.699202\n",
       "31 -122.879792 -125.834014\n",
       "32 -117.945503 -126.797385\n",
       "33 -112.018496 -121.096397\n",
       "34 -115.366669 -121.000000\n",
       "35 -119.954237 -123.609122\n",
       "36 -109.942155 -127.197394\n",
       "37 -111.515368 -128.170885\n",
       "38 -110.344221 -123.087950"
      ]
     },
     "execution_count": 35,
     "metadata": {},
     "output_type": "execute_result"
    }
   ],
   "source": [
    "df1 = pd.DataFrame(X_neg_df,columns =['X'])\n",
    "df1['Y'] = Y_neg_df\n",
    "\n",
    "df1"
   ]
  },
  {
   "cell_type": "markdown",
   "id": "9e28cd7e",
   "metadata": {},
   "source": [
    "+ SO I have replaced all the +ve values of cluster with the -ve values. Now I need to remove the corresponding rows from main data set and replace it with these rows."
   ]
  },
  {
   "cell_type": "code",
   "execution_count": 42,
   "id": "c56dbfff",
   "metadata": {},
   "outputs": [],
   "source": [
    "data_1  = data.iloc[0:1072,:]"
   ]
  },
  {
   "cell_type": "code",
   "execution_count": 45,
   "id": "b444a712",
   "metadata": {},
   "outputs": [],
   "source": [
    "df_2 = [data_1,df1]"
   ]
  },
  {
   "cell_type": "code",
   "execution_count": 51,
   "id": "12825dab",
   "metadata": {},
   "outputs": [
    {
     "data": {
      "text/html": [
       "<div>\n",
       "<style scoped>\n",
       "    .dataframe tbody tr th:only-of-type {\n",
       "        vertical-align: middle;\n",
       "    }\n",
       "\n",
       "    .dataframe tbody tr th {\n",
       "        vertical-align: top;\n",
       "    }\n",
       "\n",
       "    .dataframe thead th {\n",
       "        text-align: right;\n",
       "    }\n",
       "</style>\n",
       "<table border=\"1\" class=\"dataframe\">\n",
       "  <thead>\n",
       "    <tr style=\"text-align: right;\">\n",
       "      <th></th>\n",
       "      <th>X</th>\n",
       "      <th>Y</th>\n",
       "    </tr>\n",
       "  </thead>\n",
       "  <tbody>\n",
       "    <tr>\n",
       "      <th>0</th>\n",
       "      <td>-122.740667</td>\n",
       "      <td>-130.572085</td>\n",
       "    </tr>\n",
       "    <tr>\n",
       "      <th>1</th>\n",
       "      <td>-121.531419</td>\n",
       "      <td>-129.938929</td>\n",
       "    </tr>\n",
       "    <tr>\n",
       "      <th>2</th>\n",
       "      <td>-134.917019</td>\n",
       "      <td>-130.141832</td>\n",
       "    </tr>\n",
       "    <tr>\n",
       "      <th>3</th>\n",
       "      <td>-120.605951</td>\n",
       "      <td>-125.760932</td>\n",
       "    </tr>\n",
       "    <tr>\n",
       "      <th>4</th>\n",
       "      <td>-129.894781</td>\n",
       "      <td>-112.785214</td>\n",
       "    </tr>\n",
       "    <tr>\n",
       "      <th>...</th>\n",
       "      <td>...</td>\n",
       "      <td>...</td>\n",
       "    </tr>\n",
       "    <tr>\n",
       "      <th>1106</th>\n",
       "      <td>-115.366669</td>\n",
       "      <td>-121.000000</td>\n",
       "    </tr>\n",
       "    <tr>\n",
       "      <th>1107</th>\n",
       "      <td>-119.954237</td>\n",
       "      <td>-123.609122</td>\n",
       "    </tr>\n",
       "    <tr>\n",
       "      <th>1108</th>\n",
       "      <td>-109.942155</td>\n",
       "      <td>-127.197394</td>\n",
       "    </tr>\n",
       "    <tr>\n",
       "      <th>1109</th>\n",
       "      <td>-111.515368</td>\n",
       "      <td>-128.170885</td>\n",
       "    </tr>\n",
       "    <tr>\n",
       "      <th>1110</th>\n",
       "      <td>-110.344221</td>\n",
       "      <td>-123.087950</td>\n",
       "    </tr>\n",
       "  </tbody>\n",
       "</table>\n",
       "<p>1111 rows × 2 columns</p>\n",
       "</div>"
      ],
      "text/plain": [
       "               X           Y\n",
       "0    -122.740667 -130.572085\n",
       "1    -121.531419 -129.938929\n",
       "2    -134.917019 -130.141832\n",
       "3    -120.605951 -125.760932\n",
       "4    -129.894781 -112.785214\n",
       "...          ...         ...\n",
       "1106 -115.366669 -121.000000\n",
       "1107 -119.954237 -123.609122\n",
       "1108 -109.942155 -127.197394\n",
       "1109 -111.515368 -128.170885\n",
       "1110 -110.344221 -123.087950\n",
       "\n",
       "[1111 rows x 2 columns]"
      ]
     },
     "execution_count": 51,
     "metadata": {},
     "output_type": "execute_result"
    }
   ],
   "source": [
    "final_data = pd.concat(df_2).reset_index().drop(columns='index')\n",
    "final_data"
   ]
  },
  {
   "cell_type": "code",
   "execution_count": 52,
   "id": "d64445f4",
   "metadata": {},
   "outputs": [
    {
     "data": {
      "text/plain": [
       "Text(0, 0.5, 'Y')"
      ]
     },
     "execution_count": 52,
     "metadata": {},
     "output_type": "execute_result"
    },
    {
     "data": {
      "image/png": "[encoded data removed]",
      "text/plain": [
       "<Figure size 432x288 with 1 Axes>"
      ]
     },
     "metadata": {
      "needs_background": "light"
     },
     "output_type": "display_data"
    }
   ],
   "source": [
    "plt.scatter(final_data.X,final_data.Y)\n",
    "plt.xlabel(\"X\")\n",
    "plt.ylabel(\"Y\")"
   ]
  },
  {
   "cell_type": "markdown",
   "id": "69334bbe",
   "metadata": {},
   "source": [
    "+ So we see that the cluster that was forming separately is replaced and we see a proper pattern in the chart."
   ]
  },
  {
   "cell_type": "markdown",
   "id": "e707271c",
   "metadata": {},
   "source": [
    "+ From visual inspection of scatter plot ,We see that the records whose X values are positve are following a linear relationship with Y and values of X less than 0 are having Polynomial relation with Y. So I split the final data set into 2 parts , one with positve values of x and one with neagative values of x."
   ]
  },
  {
   "cell_type": "code",
   "execution_count": 53,
   "id": "c3c11345",
   "metadata": {},
   "outputs": [],
   "source": [
    "Positive_X = final_data[final_data.X>0]"
   ]
  },
  {
   "cell_type": "code",
   "execution_count": 54,
   "id": "74c7495b",
   "metadata": {},
   "outputs": [
    {
     "data": {
      "text/html": [
       "<div>\n",
       "<style scoped>\n",
       "    .dataframe tbody tr th:only-of-type {\n",
       "        vertical-align: middle;\n",
       "    }\n",
       "\n",
       "    .dataframe tbody tr th {\n",
       "        vertical-align: top;\n",
       "    }\n",
       "\n",
       "    .dataframe thead th {\n",
       "        text-align: right;\n",
       "    }\n",
       "</style>\n",
       "<table border=\"1\" class=\"dataframe\">\n",
       "  <thead>\n",
       "    <tr style=\"text-align: right;\">\n",
       "      <th></th>\n",
       "      <th>X</th>\n",
       "      <th>Y</th>\n",
       "    </tr>\n",
       "  </thead>\n",
       "  <tbody>\n",
       "    <tr>\n",
       "      <th>197</th>\n",
       "      <td>2.131207</td>\n",
       "      <td>-53.048047</td>\n",
       "    </tr>\n",
       "    <tr>\n",
       "      <th>205</th>\n",
       "      <td>6.232962</td>\n",
       "      <td>-76.623539</td>\n",
       "    </tr>\n",
       "    <tr>\n",
       "      <th>210</th>\n",
       "      <td>2.633331</td>\n",
       "      <td>-76.000000</td>\n",
       "    </tr>\n",
       "    <tr>\n",
       "      <th>211</th>\n",
       "      <td>17.290843</td>\n",
       "      <td>-86.776182</td>\n",
       "    </tr>\n",
       "    <tr>\n",
       "      <th>213</th>\n",
       "      <td>7.608236</td>\n",
       "      <td>-62.595214</td>\n",
       "    </tr>\n",
       "    <tr>\n",
       "      <th>...</th>\n",
       "      <td>...</td>\n",
       "      <td>...</td>\n",
       "    </tr>\n",
       "    <tr>\n",
       "      <th>1067</th>\n",
       "      <td>134.605775</td>\n",
       "      <td>123.619680</td>\n",
       "    </tr>\n",
       "    <tr>\n",
       "      <th>1068</th>\n",
       "      <td>116.633331</td>\n",
       "      <td>118.000000</td>\n",
       "    </tr>\n",
       "    <tr>\n",
       "      <th>1069</th>\n",
       "      <td>115.862302</td>\n",
       "      <td>118.564590</td>\n",
       "    </tr>\n",
       "    <tr>\n",
       "      <th>1070</th>\n",
       "      <td>117.366199</td>\n",
       "      <td>99.544820</td>\n",
       "    </tr>\n",
       "    <tr>\n",
       "      <th>1071</th>\n",
       "      <td>99.683141</td>\n",
       "      <td>129.272153</td>\n",
       "    </tr>\n",
       "  </tbody>\n",
       "</table>\n",
       "<p>631 rows × 2 columns</p>\n",
       "</div>"
      ],
      "text/plain": [
       "               X           Y\n",
       "197     2.131207  -53.048047\n",
       "205     6.232962  -76.623539\n",
       "210     2.633331  -76.000000\n",
       "211    17.290843  -86.776182\n",
       "213     7.608236  -62.595214\n",
       "...          ...         ...\n",
       "1067  134.605775  123.619680\n",
       "1068  116.633331  118.000000\n",
       "1069  115.862302  118.564590\n",
       "1070  117.366199   99.544820\n",
       "1071   99.683141  129.272153\n",
       "\n",
       "[631 rows x 2 columns]"
      ]
     },
     "execution_count": 54,
     "metadata": {},
     "output_type": "execute_result"
    }
   ],
   "source": [
    "Positive_X"
   ]
  },
  {
   "cell_type": "code",
   "execution_count": 56,
   "id": "92f5c898",
   "metadata": {},
   "outputs": [
    {
     "data": {
      "text/html": [
       "<div>\n",
       "<style scoped>\n",
       "    .dataframe tbody tr th:only-of-type {\n",
       "        vertical-align: middle;\n",
       "    }\n",
       "\n",
       "    .dataframe tbody tr th {\n",
       "        vertical-align: top;\n",
       "    }\n",
       "\n",
       "    .dataframe thead th {\n",
       "        text-align: right;\n",
       "    }\n",
       "</style>\n",
       "<table border=\"1\" class=\"dataframe\">\n",
       "  <thead>\n",
       "    <tr style=\"text-align: right;\">\n",
       "      <th></th>\n",
       "      <th>X</th>\n",
       "      <th>Y</th>\n",
       "    </tr>\n",
       "  </thead>\n",
       "  <tbody>\n",
       "    <tr>\n",
       "      <th>X</th>\n",
       "      <td>1.000000</td>\n",
       "      <td>0.922233</td>\n",
       "    </tr>\n",
       "    <tr>\n",
       "      <th>Y</th>\n",
       "      <td>0.922233</td>\n",
       "      <td>1.000000</td>\n",
       "    </tr>\n",
       "  </tbody>\n",
       "</table>\n",
       "</div>"
      ],
      "text/plain": [
       "          X         Y\n",
       "X  1.000000  0.922233\n",
       "Y  0.922233  1.000000"
      ]
     },
     "execution_count": 56,
     "metadata": {},
     "output_type": "execute_result"
    }
   ],
   "source": [
    "Positive_X.corr()"
   ]
  },
  {
   "cell_type": "code",
   "execution_count": 62,
   "id": "1e57b687",
   "metadata": {},
   "outputs": [
    {
     "data": {
      "text/plain": [
       "Text(0, 0.5, 'Y')"
      ]
     },
     "execution_count": 62,
     "metadata": {},
     "output_type": "execute_result"
    },
    {
     "data": {
      "image/png": "[encoded data removed]",
      "text/plain": [
       "<Figure size 432x288 with 1 Axes>"
      ]
     },
     "metadata": {
      "needs_background": "light"
     },
     "output_type": "display_data"
    }
   ],
   "source": [
    "plt.scatter(Positive_X.X,Positive_X.Y)\n",
    "plt.xlabel(\"X\")\n",
    "plt.ylabel(\"Y\")"
   ]
  },
  {
   "cell_type": "markdown",
   "id": "24edc2b0",
   "metadata": {},
   "source": [
    "+ SO we see a very strong relation between X and Y for positive values of X."
   ]
  },
  {
   "cell_type": "markdown",
   "id": "f4d35dd0",
   "metadata": {},
   "source": [
    "### Building Linear Regression for Positive Values of X"
   ]
  },
  {
   "cell_type": "code",
   "execution_count": 63,
   "id": "dccdbb11",
   "metadata": {},
   "outputs": [
    {
     "data": {
      "text/plain": [
       "<AxesSubplot:xlabel='X', ylabel='Y'>"
      ]
     },
     "execution_count": 63,
     "metadata": {},
     "output_type": "execute_result"
    },
    {
     "data": {
      "image/png": "[encoded data removed]",
      "text/plain": [
       "<Figure size 432x288 with 1 Axes>"
      ]
     },
     "metadata": {
      "needs_background": "light"
     },
     "output_type": "display_data"
    }
   ],
   "source": [
    "import seaborn as sns\n",
    "sns.regplot(x=\"X\",y=\"Y\",data =Positive_X )\n",
    "\n"
   ]
  },
  {
   "cell_type": "code",
   "execution_count": 71,
   "id": "3900c05b",
   "metadata": {},
   "outputs": [],
   "source": [
    "from sklearn.model_selection import train_test_split\n",
    "X_train, X_test, y_train, y_test = train_test_split(Positive_X.X, Positive_X.Y, test_size=0.2)"
   ]
  },
  {
   "cell_type": "code",
   "execution_count": 75,
   "id": "920d1492",
   "metadata": {},
   "outputs": [],
   "source": [
    "import statsmodels.formula.api as smf\n",
    "model = smf.ols(\"Y ~ X\", data=Positive_X).fit()\n"
   ]
  },
  {
   "cell_type": "code",
   "execution_count": 76,
   "id": "ea8e27e8",
   "metadata": {},
   "outputs": [
    {
     "data": {
      "text/html": [
       "<table class=\"simpletable\">\n",
       "<caption>OLS Regression Results</caption>\n",
       "<tr>\n",
       "  <th>Dep. Variable:</th>            <td>Y</td>        <th>  R-squared:         </th> <td>   0.851</td> \n",
       "</tr>\n",
       "<tr>\n",
       "  <th>Model:</th>                   <td>OLS</td>       <th>  Adj. R-squared:    </th> <td>   0.850</td> \n",
       "</tr>\n",
       "<tr>\n",
       "  <th>Method:</th>             <td>Least Squares</td>  <th>  F-statistic:       </th> <td>   3579.</td> \n",
       "</tr>\n",
       "<tr>\n",
       "  <th>Date:</th>             <td>Sat, 18 Jun 2022</td> <th>  Prob (F-statistic):</th> <td>8.89e-262</td>\n",
       "</tr>\n",
       "<tr>\n",
       "  <th>Time:</th>                 <td>16:09:46</td>     <th>  Log-Likelihood:    </th> <td> -3006.9</td> \n",
       "</tr>\n",
       "<tr>\n",
       "  <th>No. Observations:</th>      <td>   631</td>      <th>  AIC:               </th> <td>   6018.</td> \n",
       "</tr>\n",
       "<tr>\n",
       "  <th>Df Residuals:</th>          <td>   629</td>      <th>  BIC:               </th> <td>   6027.</td> \n",
       "</tr>\n",
       "<tr>\n",
       "  <th>Df Model:</th>              <td>     1</td>      <th>                     </th>     <td> </td>    \n",
       "</tr>\n",
       "<tr>\n",
       "  <th>Covariance Type:</th>      <td>nonrobust</td>    <th>                     </th>     <td> </td>    \n",
       "</tr>\n",
       "</table>\n",
       "<table class=\"simpletable\">\n",
       "<tr>\n",
       "      <td></td>         <th>coef</th>     <th>std err</th>      <th>t</th>      <th>P>|t|</th>  <th>[0.025</th>    <th>0.975]</th>  \n",
       "</tr>\n",
       "<tr>\n",
       "  <th>Intercept</th> <td> -129.4499</td> <td>    2.299</td> <td>  -56.311</td> <td> 0.000</td> <td> -133.964</td> <td> -124.936</td>\n",
       "</tr>\n",
       "<tr>\n",
       "  <th>X</th>         <td>    1.8014</td> <td>    0.030</td> <td>   59.823</td> <td> 0.000</td> <td>    1.742</td> <td>    1.861</td>\n",
       "</tr>\n",
       "</table>\n",
       "<table class=\"simpletable\">\n",
       "<tr>\n",
       "  <th>Omnibus:</th>       <td> 5.138</td> <th>  Durbin-Watson:     </th> <td>   1.099</td>\n",
       "</tr>\n",
       "<tr>\n",
       "  <th>Prob(Omnibus):</th> <td> 0.077</td> <th>  Jarque-Bera (JB):  </th> <td>   3.720</td>\n",
       "</tr>\n",
       "<tr>\n",
       "  <th>Skew:</th>          <td>-0.010</td> <th>  Prob(JB):          </th> <td>   0.156</td>\n",
       "</tr>\n",
       "<tr>\n",
       "  <th>Kurtosis:</th>      <td> 2.624</td> <th>  Cond. No.          </th> <td>    155.</td>\n",
       "</tr>\n",
       "</table><br/><br/>Notes:<br/>[1] Standard Errors assume that the covariance matrix of the errors is correctly specified."
      ],
      "text/plain": [
       "<class 'statsmodels.iolib.summary.Summary'>\n",
       "\"\"\"\n",
       "                            OLS Regression Results                            \n",
       "==============================================================================\n",
       "Dep. Variable:                      Y   R-squared:                       0.851\n",
       "Model:                            OLS   Adj. R-squared:                  0.850\n",
       "Method:                 Least Squares   F-statistic:                     3579.\n",
       "Date:                Sat, 18 Jun 2022   Prob (F-statistic):          8.89e-262\n",
       "Time:                        16:09:46   Log-Likelihood:                -3006.9\n",
       "No. Observations:                 631   AIC:                             6018.\n",
       "Df Residuals:                     629   BIC:                             6027.\n",
       "Df Model:                           1                                         \n",
       "Covariance Type:            nonrobust                                         \n",
       "==============================================================================\n",
       "                 coef    std err          t      P>|t|      [0.025      0.975]\n",
       "------------------------------------------------------------------------------\n",
       "Intercept   -129.4499      2.299    -56.311      0.000    -133.964    -124.936\n",
       "X              1.8014      0.030     59.823      0.000       1.742       1.861\n",
       "==============================================================================\n",
       "Omnibus:                        5.138   Durbin-Watson:                   1.099\n",
       "Prob(Omnibus):                  0.077   Jarque-Bera (JB):                3.720\n",
       "Skew:                          -0.010   Prob(JB):                        0.156\n",
       "Kurtosis:                       2.624   Cond. No.                         155.\n",
       "==============================================================================\n",
       "\n",
       "Notes:\n",
       "[1] Standard Errors assume that the covariance matrix of the errors is correctly specified.\n",
       "\"\"\""
      ]
     },
     "execution_count": 76,
     "metadata": {},
     "output_type": "execute_result"
    }
   ],
   "source": [
    "model.summary()"
   ]
  },
  {
   "cell_type": "markdown",
   "id": "098eb65f",
   "metadata": {},
   "source": [
    "+ SO the p values are less than 0.05, The R squared value is also good."
   ]
  },
  {
   "cell_type": "code",
   "execution_count": 80,
   "id": "641a2870",
   "metadata": {},
   "outputs": [],
   "source": [
    "def RMSE (actual,pred):\n",
    "    temp = np.sqrt(np.mean((actual - pred)*(actual - pred)))\n",
    "    return temp"
   ]
  },
  {
   "cell_type": "code",
   "execution_count": 85,
   "id": "4ba01a81",
   "metadata": {},
   "outputs": [
    {
     "data": {
      "text/plain": [
       "28.397348387581612"
      ]
     },
     "execution_count": 85,
     "metadata": {},
     "output_type": "execute_result"
    }
   ],
   "source": [
    "pred = model.predict(Positive_X.X)\n",
    "rmse= RMSE(Positive_X.Y,pred)\n",
    "rmse"
   ]
  },
  {
   "cell_type": "markdown",
   "id": "60404794",
   "metadata": {},
   "source": [
    "+ We are getting RMSE value of 28.39 for model without any transformation."
   ]
  },
  {
   "cell_type": "markdown",
   "id": "84efb033",
   "metadata": {},
   "source": [
    "+ Thus the Linear model for positive values of X is\n",
    "###     Y = -129.4499 + 1.8014 X"
   ]
  },
  {
   "cell_type": "markdown",
   "id": "df6d45f4",
   "metadata": {},
   "source": [
    "### Building Linear Regression for Negative Values of X"
   ]
  },
  {
   "cell_type": "code",
   "execution_count": 87,
   "id": "6a145bdc",
   "metadata": {},
   "outputs": [],
   "source": [
    "Negative_X = final_data[final_data.X<=0]"
   ]
  },
  {
   "cell_type": "code",
   "execution_count": 88,
   "id": "d72cc158",
   "metadata": {},
   "outputs": [
    {
     "data": {
      "text/html": [
       "<div>\n",
       "<style scoped>\n",
       "    .dataframe tbody tr th:only-of-type {\n",
       "        vertical-align: middle;\n",
       "    }\n",
       "\n",
       "    .dataframe tbody tr th {\n",
       "        vertical-align: top;\n",
       "    }\n",
       "\n",
       "    .dataframe thead th {\n",
       "        text-align: right;\n",
       "    }\n",
       "</style>\n",
       "<table border=\"1\" class=\"dataframe\">\n",
       "  <thead>\n",
       "    <tr style=\"text-align: right;\">\n",
       "      <th></th>\n",
       "      <th>X</th>\n",
       "      <th>Y</th>\n",
       "    </tr>\n",
       "  </thead>\n",
       "  <tbody>\n",
       "    <tr>\n",
       "      <th>0</th>\n",
       "      <td>-122.740667</td>\n",
       "      <td>-130.572085</td>\n",
       "    </tr>\n",
       "    <tr>\n",
       "      <th>1</th>\n",
       "      <td>-121.531419</td>\n",
       "      <td>-129.938929</td>\n",
       "    </tr>\n",
       "    <tr>\n",
       "      <th>2</th>\n",
       "      <td>-134.917019</td>\n",
       "      <td>-130.141832</td>\n",
       "    </tr>\n",
       "    <tr>\n",
       "      <th>3</th>\n",
       "      <td>-120.605951</td>\n",
       "      <td>-125.760932</td>\n",
       "    </tr>\n",
       "    <tr>\n",
       "      <th>4</th>\n",
       "      <td>-129.894781</td>\n",
       "      <td>-112.785214</td>\n",
       "    </tr>\n",
       "    <tr>\n",
       "      <th>...</th>\n",
       "      <td>...</td>\n",
       "      <td>...</td>\n",
       "    </tr>\n",
       "    <tr>\n",
       "      <th>1106</th>\n",
       "      <td>-115.366669</td>\n",
       "      <td>-121.000000</td>\n",
       "    </tr>\n",
       "    <tr>\n",
       "      <th>1107</th>\n",
       "      <td>-119.954237</td>\n",
       "      <td>-123.609122</td>\n",
       "    </tr>\n",
       "    <tr>\n",
       "      <th>1108</th>\n",
       "      <td>-109.942155</td>\n",
       "      <td>-127.197394</td>\n",
       "    </tr>\n",
       "    <tr>\n",
       "      <th>1109</th>\n",
       "      <td>-111.515368</td>\n",
       "      <td>-128.170885</td>\n",
       "    </tr>\n",
       "    <tr>\n",
       "      <th>1110</th>\n",
       "      <td>-110.344221</td>\n",
       "      <td>-123.087950</td>\n",
       "    </tr>\n",
       "  </tbody>\n",
       "</table>\n",
       "<p>480 rows × 2 columns</p>\n",
       "</div>"
      ],
      "text/plain": [
       "               X           Y\n",
       "0    -122.740667 -130.572085\n",
       "1    -121.531419 -129.938929\n",
       "2    -134.917019 -130.141832\n",
       "3    -120.605951 -125.760932\n",
       "4    -129.894781 -112.785214\n",
       "...          ...         ...\n",
       "1106 -115.366669 -121.000000\n",
       "1107 -119.954237 -123.609122\n",
       "1108 -109.942155 -127.197394\n",
       "1109 -111.515368 -128.170885\n",
       "1110 -110.344221 -123.087950\n",
       "\n",
       "[480 rows x 2 columns]"
      ]
     },
     "execution_count": 88,
     "metadata": {},
     "output_type": "execute_result"
    }
   ],
   "source": [
    "Negative_X"
   ]
  },
  {
   "cell_type": "code",
   "execution_count": 89,
   "id": "6139de57",
   "metadata": {},
   "outputs": [
    {
     "data": {
      "text/html": [
       "<div>\n",
       "<style scoped>\n",
       "    .dataframe tbody tr th:only-of-type {\n",
       "        vertical-align: middle;\n",
       "    }\n",
       "\n",
       "    .dataframe tbody tr th {\n",
       "        vertical-align: top;\n",
       "    }\n",
       "\n",
       "    .dataframe thead th {\n",
       "        text-align: right;\n",
       "    }\n",
       "</style>\n",
       "<table border=\"1\" class=\"dataframe\">\n",
       "  <thead>\n",
       "    <tr style=\"text-align: right;\">\n",
       "      <th></th>\n",
       "      <th>X</th>\n",
       "      <th>Y</th>\n",
       "    </tr>\n",
       "  </thead>\n",
       "  <tbody>\n",
       "    <tr>\n",
       "      <th>X</th>\n",
       "      <td>1.000000</td>\n",
       "      <td>0.374943</td>\n",
       "    </tr>\n",
       "    <tr>\n",
       "      <th>Y</th>\n",
       "      <td>0.374943</td>\n",
       "      <td>1.000000</td>\n",
       "    </tr>\n",
       "  </tbody>\n",
       "</table>\n",
       "</div>"
      ],
      "text/plain": [
       "          X         Y\n",
       "X  1.000000  0.374943\n",
       "Y  0.374943  1.000000"
      ]
     },
     "execution_count": 89,
     "metadata": {},
     "output_type": "execute_result"
    }
   ],
   "source": [
    "Negative_X.corr()"
   ]
  },
  {
   "cell_type": "markdown",
   "id": "2ee88031",
   "metadata": {},
   "source": [
    "+ We are getting a very poor co-relation between X and Y for negative value of X."
   ]
  },
  {
   "cell_type": "code",
   "execution_count": 90,
   "id": "56e503e1",
   "metadata": {},
   "outputs": [
    {
     "data": {
      "text/plain": [
       "Text(0, 0.5, 'Y')"
      ]
     },
     "execution_count": 90,
     "metadata": {},
     "output_type": "execute_result"
    },
    {
     "data": {
      "image/png": "[encoded data removed]",
      "text/plain": [
       "<Figure size 432x288 with 1 Axes>"
      ]
     },
     "metadata": {
      "needs_background": "light"
     },
     "output_type": "display_data"
    }
   ],
   "source": [
    "plt.scatter(Negative_X.X,Negative_X.Y)\n",
    "plt.xlabel(\"X\")\n",
    "plt.ylabel(\"Y\")"
   ]
  },
  {
   "cell_type": "markdown",
   "id": "76066368",
   "metadata": {},
   "source": [
    "+ we clearly see that Y and X are related by a polynomial relation.\n",
    "+ So We will perform transformation and try to make the relation linear in order to apply linear regression."
   ]
  },
  {
   "cell_type": "markdown",
   "id": "4a2005a6",
   "metadata": {},
   "source": [
    "### Transformation"
   ]
  },
  {
   "cell_type": "code",
   "execution_count": 91,
   "id": "ee9333ea",
   "metadata": {},
   "outputs": [
    {
     "name": "stderr",
     "output_type": "stream",
     "text": [
      "C:\\Users\\nilka\\AppData\\Local\\Temp/ipykernel_95692/2679380294.py:1: SettingWithCopyWarning: \n",
      "A value is trying to be set on a copy of a slice from a DataFrame.\n",
      "Try using .loc[row_indexer,col_indexer] = value instead\n",
      "\n",
      "See the caveats in the documentation: https://pandas.pydata.org/pandas-docs/stable/user_guide/indexing.html#returning-a-view-versus-a-copy\n",
      "  Negative_X ['log_y'] = np.log(abs(Negative_X.Y))\n"
     ]
    }
   ],
   "source": [
    "Negative_X ['log_y'] = np.log(abs(Negative_X.Y))"
   ]
  },
  {
   "cell_type": "code",
   "execution_count": 92,
   "id": "18e93a4b",
   "metadata": {},
   "outputs": [
    {
     "data": {
      "text/html": [
       "<div>\n",
       "<style scoped>\n",
       "    .dataframe tbody tr th:only-of-type {\n",
       "        vertical-align: middle;\n",
       "    }\n",
       "\n",
       "    .dataframe tbody tr th {\n",
       "        vertical-align: top;\n",
       "    }\n",
       "\n",
       "    .dataframe thead th {\n",
       "        text-align: right;\n",
       "    }\n",
       "</style>\n",
       "<table border=\"1\" class=\"dataframe\">\n",
       "  <thead>\n",
       "    <tr style=\"text-align: right;\">\n",
       "      <th></th>\n",
       "      <th>X</th>\n",
       "      <th>Y</th>\n",
       "      <th>log_y</th>\n",
       "    </tr>\n",
       "  </thead>\n",
       "  <tbody>\n",
       "    <tr>\n",
       "      <th>0</th>\n",
       "      <td>-122.740667</td>\n",
       "      <td>-130.572085</td>\n",
       "      <td>4.871925</td>\n",
       "    </tr>\n",
       "    <tr>\n",
       "      <th>1</th>\n",
       "      <td>-121.531419</td>\n",
       "      <td>-129.938929</td>\n",
       "      <td>4.867065</td>\n",
       "    </tr>\n",
       "    <tr>\n",
       "      <th>2</th>\n",
       "      <td>-134.917019</td>\n",
       "      <td>-130.141832</td>\n",
       "      <td>4.868625</td>\n",
       "    </tr>\n",
       "    <tr>\n",
       "      <th>3</th>\n",
       "      <td>-120.605951</td>\n",
       "      <td>-125.760932</td>\n",
       "      <td>4.834383</td>\n",
       "    </tr>\n",
       "    <tr>\n",
       "      <th>4</th>\n",
       "      <td>-129.894781</td>\n",
       "      <td>-112.785214</td>\n",
       "      <td>4.725485</td>\n",
       "    </tr>\n",
       "    <tr>\n",
       "      <th>...</th>\n",
       "      <td>...</td>\n",
       "      <td>...</td>\n",
       "      <td>...</td>\n",
       "    </tr>\n",
       "    <tr>\n",
       "      <th>1106</th>\n",
       "      <td>-115.366669</td>\n",
       "      <td>-121.000000</td>\n",
       "      <td>4.795791</td>\n",
       "    </tr>\n",
       "    <tr>\n",
       "      <th>1107</th>\n",
       "      <td>-119.954237</td>\n",
       "      <td>-123.609122</td>\n",
       "      <td>4.817124</td>\n",
       "    </tr>\n",
       "    <tr>\n",
       "      <th>1108</th>\n",
       "      <td>-109.942155</td>\n",
       "      <td>-127.197394</td>\n",
       "      <td>4.845740</td>\n",
       "    </tr>\n",
       "    <tr>\n",
       "      <th>1109</th>\n",
       "      <td>-111.515368</td>\n",
       "      <td>-128.170885</td>\n",
       "      <td>4.853364</td>\n",
       "    </tr>\n",
       "    <tr>\n",
       "      <th>1110</th>\n",
       "      <td>-110.344221</td>\n",
       "      <td>-123.087950</td>\n",
       "      <td>4.812899</td>\n",
       "    </tr>\n",
       "  </tbody>\n",
       "</table>\n",
       "<p>480 rows × 3 columns</p>\n",
       "</div>"
      ],
      "text/plain": [
       "               X           Y     log_y\n",
       "0    -122.740667 -130.572085  4.871925\n",
       "1    -121.531419 -129.938929  4.867065\n",
       "2    -134.917019 -130.141832  4.868625\n",
       "3    -120.605951 -125.760932  4.834383\n",
       "4    -129.894781 -112.785214  4.725485\n",
       "...          ...         ...       ...\n",
       "1106 -115.366669 -121.000000  4.795791\n",
       "1107 -119.954237 -123.609122  4.817124\n",
       "1108 -109.942155 -127.197394  4.845740\n",
       "1109 -111.515368 -128.170885  4.853364\n",
       "1110 -110.344221 -123.087950  4.812899\n",
       "\n",
       "[480 rows x 3 columns]"
      ]
     },
     "execution_count": 92,
     "metadata": {},
     "output_type": "execute_result"
    }
   ],
   "source": [
    "Negative_X"
   ]
  },
  {
   "cell_type": "code",
   "execution_count": 98,
   "id": "7e659497",
   "metadata": {},
   "outputs": [
    {
     "data": {
      "text/plain": [
       "Text(0, 0.5, 'log |Y|')"
      ]
     },
     "execution_count": 98,
     "metadata": {},
     "output_type": "execute_result"
    },
    {
     "data": {
      "image/png": "[encoded data removed]",
      "text/plain": [
       "<Figure size 432x288 with 1 Axes>"
      ]
     },
     "metadata": {
      "needs_background": "light"
     },
     "output_type": "display_data"
    }
   ],
   "source": [
    "plt.scatter(Negative_X.X,Negative_X.log_y)\n",
    "plt.xlabel(\"X\")\n",
    "plt.ylabel(\"log |Y|\")"
   ]
  },
  {
   "cell_type": "code",
   "execution_count": 96,
   "id": "dd1df2e7",
   "metadata": {},
   "outputs": [
    {
     "name": "stderr",
     "output_type": "stream",
     "text": [
      "C:\\Users\\nilka\\AppData\\Local\\Temp/ipykernel_95692/3535507350.py:1: SettingWithCopyWarning: \n",
      "A value is trying to be set on a copy of a slice from a DataFrame.\n",
      "Try using .loc[row_indexer,col_indexer] = value instead\n",
      "\n",
      "See the caveats in the documentation: https://pandas.pydata.org/pandas-docs/stable/user_guide/indexing.html#returning-a-view-versus-a-copy\n",
      "  Negative_X ['log_x'] = np.log(abs(Negative_X.X))\n"
     ]
    }
   ],
   "source": [
    "Negative_X ['log_x'] = np.log(abs(Negative_X.X))"
   ]
  },
  {
   "cell_type": "code",
   "execution_count": 103,
   "id": "262b84ac",
   "metadata": {},
   "outputs": [
    {
     "data": {
      "text/plain": [
       "Text(0, 0.5, 'Y')"
      ]
     },
     "execution_count": 103,
     "metadata": {},
     "output_type": "execute_result"
    },
    {
     "data": {
      "image/png": "[encoded data removed]",
      "text/plain": [
       "<Figure size 432x288 with 1 Axes>"
      ]
     },
     "metadata": {
      "needs_background": "light"
     },
     "output_type": "display_data"
    }
   ],
   "source": [
    "plt.scatter(Negative_X.log_x,Negative_X.Y)\n",
    "plt.xlabel(\"log  |X|\")\n",
    "plt.ylabel(\"Y\")"
   ]
  },
  {
   "cell_type": "markdown",
   "id": "15901165",
   "metadata": {},
   "source": [
    "+ Log transformation is not giving us linear relation between the variables"
   ]
  },
  {
   "cell_type": "code",
   "execution_count": 101,
   "id": "775efac0",
   "metadata": {},
   "outputs": [
    {
     "name": "stderr",
     "output_type": "stream",
     "text": [
      "C:\\Users\\nilka\\AppData\\Local\\Temp/ipykernel_95692/2801419796.py:1: SettingWithCopyWarning: \n",
      "A value is trying to be set on a copy of a slice from a DataFrame.\n",
      "Try using .loc[row_indexer,col_indexer] = value instead\n",
      "\n",
      "See the caveats in the documentation: https://pandas.pydata.org/pandas-docs/stable/user_guide/indexing.html#returning-a-view-versus-a-copy\n",
      "  Negative_X ['sqr_y'] = np.sqrt(abs(Negative_X.Y))\n"
     ]
    }
   ],
   "source": [
    "Negative_X ['sqr_y'] = np.sqrt(abs(Negative_X.Y))"
   ]
  },
  {
   "cell_type": "code",
   "execution_count": 104,
   "id": "f4adf332",
   "metadata": {},
   "outputs": [
    {
     "data": {
      "text/plain": [
       "Text(0, 0.5, 'SQRT  |Y|')"
      ]
     },
     "execution_count": 104,
     "metadata": {},
     "output_type": "execute_result"
    },
    {
     "data": {
      "image/png": "[encoded data removed]",
      "text/plain": [
       "<Figure size 432x288 with 1 Axes>"
      ]
     },
     "metadata": {
      "needs_background": "light"
     },
     "output_type": "display_data"
    }
   ],
   "source": [
    "plt.scatter(Negative_X.X,Negative_X.sqr_y)\n",
    "plt.xlabel(\"X\")\n",
    "plt.ylabel(\"SQRT  |Y|\")"
   ]
  },
  {
   "cell_type": "code",
   "execution_count": 105,
   "id": "f0ec2f01",
   "metadata": {},
   "outputs": [
    {
     "name": "stderr",
     "output_type": "stream",
     "text": [
      "C:\\Users\\nilka\\AppData\\Local\\Temp/ipykernel_95692/3396622321.py:1: SettingWithCopyWarning: \n",
      "A value is trying to be set on a copy of a slice from a DataFrame.\n",
      "Try using .loc[row_indexer,col_indexer] = value instead\n",
      "\n",
      "See the caveats in the documentation: https://pandas.pydata.org/pandas-docs/stable/user_guide/indexing.html#returning-a-view-versus-a-copy\n",
      "  Negative_X ['log_sqr_y'] = np.log(np.sqrt(abs(Negative_X.Y)))\n"
     ]
    }
   ],
   "source": [
    "Negative_X ['log_sqr_y'] = np.log(np.sqrt(abs(Negative_X.Y)))"
   ]
  },
  {
   "cell_type": "code",
   "execution_count": 106,
   "id": "2bd83e1a",
   "metadata": {},
   "outputs": [
    {
     "data": {
      "text/plain": [
       "Text(0, 0.5, 'log of SQRT  |Y|')"
      ]
     },
     "execution_count": 106,
     "metadata": {},
     "output_type": "execute_result"
    },
    {
     "data": {
      "image/png": "[encoded data removed]",
      "text/plain": [
       "<Figure size 432x288 with 1 Axes>"
      ]
     },
     "metadata": {
      "needs_background": "light"
     },
     "output_type": "display_data"
    }
   ],
   "source": [
    "plt.scatter(Negative_X.X,Negative_X.log_sqr_y)\n",
    "plt.xlabel(\"X\")\n",
    "plt.ylabel(\"log of SQRT  |Y|\")"
   ]
  },
  {
   "cell_type": "markdown",
   "id": "33049e23",
   "metadata": {},
   "source": [
    "+ SO I am unable to convert it to linear relation using transformation."
   ]
  },
  {
   "cell_type": "markdown",
   "id": "3fd12677",
   "metadata": {},
   "source": [
    "+ We can also use Decision Tree Regressor for such cases with polynomial relation"
   ]
  },
  {
   "cell_type": "code",
   "execution_count": 107,
   "id": "2608d059",
   "metadata": {},
   "outputs": [],
   "source": [
    "from sklearn.tree import DecisionTreeRegressor "
   ]
  },
  {
   "cell_type": "code",
   "execution_count": 108,
   "id": "1b323fb9",
   "metadata": {},
   "outputs": [],
   "source": [
    "regressor = DecisionTreeRegressor(random_state = 0) "
   ]
  },
  {
   "cell_type": "code",
   "execution_count": 109,
   "id": "14c7cdef",
   "metadata": {},
   "outputs": [],
   "source": [
    "X_train, X_test, y_train, y_test = train_test_split(Negative_X.X, Negative_X.Y, test_size=0.2)"
   ]
  },
  {
   "cell_type": "code",
   "execution_count": 112,
   "id": "1358734b",
   "metadata": {},
   "outputs": [
    {
     "data": {
      "text/plain": [
       "847   -120.613037\n",
       "729    -48.618590\n",
       "792    -56.536639\n",
       "115    -51.665133\n",
       "672    -79.090374\n",
       "          ...    \n",
       "111    -15.238591\n",
       "195    -66.677175\n",
       "43     -78.087838\n",
       "683    -70.000000\n",
       "61     -47.060377\n",
       "Name: Y, Length: 384, dtype: float64"
      ]
     },
     "execution_count": 112,
     "metadata": {},
     "output_type": "execute_result"
    }
   ],
   "source": [
    "y_train"
   ]
  },
  {
   "cell_type": "code",
   "execution_count": 117,
   "id": "d60c8cbd",
   "metadata": {},
   "outputs": [
    {
     "data": {
      "text/plain": [
       "DecisionTreeRegressor(random_state=0)"
      ]
     },
     "execution_count": 117,
     "metadata": {},
     "output_type": "execute_result"
    }
   ],
   "source": [
    "regressor.fit(X_train.values.reshape(-1,1),y_train.values.reshape(-1,1))"
   ]
  },
  {
   "cell_type": "code",
   "execution_count": 119,
   "id": "5a33e85b",
   "metadata": {},
   "outputs": [],
   "source": [
    "y_pred = regressor.predict(X_test.values.reshape(-1,1))"
   ]
  },
  {
   "cell_type": "code",
   "execution_count": 128,
   "id": "4b30d5a4",
   "metadata": {},
   "outputs": [
    {
     "data": {
      "text/html": [
       "<div>\n",
       "<style scoped>\n",
       "    .dataframe tbody tr th:only-of-type {\n",
       "        vertical-align: middle;\n",
       "    }\n",
       "\n",
       "    .dataframe tbody tr th {\n",
       "        vertical-align: top;\n",
       "    }\n",
       "\n",
       "    .dataframe thead th {\n",
       "        text-align: right;\n",
       "    }\n",
       "</style>\n",
       "<table border=\"1\" class=\"dataframe\">\n",
       "  <thead>\n",
       "    <tr style=\"text-align: right;\">\n",
       "      <th></th>\n",
       "      <th>0</th>\n",
       "    </tr>\n",
       "  </thead>\n",
       "  <tbody>\n",
       "    <tr>\n",
       "      <th>0</th>\n",
       "      <td>-127.428571</td>\n",
       "    </tr>\n",
       "    <tr>\n",
       "      <th>1</th>\n",
       "      <td>-127.428571</td>\n",
       "    </tr>\n",
       "    <tr>\n",
       "      <th>2</th>\n",
       "      <td>-54.573633</td>\n",
       "    </tr>\n",
       "    <tr>\n",
       "      <th>3</th>\n",
       "      <td>-127.428571</td>\n",
       "    </tr>\n",
       "    <tr>\n",
       "      <th>4</th>\n",
       "      <td>-63.359041</td>\n",
       "    </tr>\n",
       "    <tr>\n",
       "      <th>...</th>\n",
       "      <td>...</td>\n",
       "    </tr>\n",
       "    <tr>\n",
       "      <th>91</th>\n",
       "      <td>-55.947190</td>\n",
       "    </tr>\n",
       "    <tr>\n",
       "      <th>92</th>\n",
       "      <td>-99.666803</td>\n",
       "    </tr>\n",
       "    <tr>\n",
       "      <th>93</th>\n",
       "      <td>-47.638973</td>\n",
       "    </tr>\n",
       "    <tr>\n",
       "      <th>94</th>\n",
       "      <td>-123.609122</td>\n",
       "    </tr>\n",
       "    <tr>\n",
       "      <th>95</th>\n",
       "      <td>-48.000000</td>\n",
       "    </tr>\n",
       "  </tbody>\n",
       "</table>\n",
       "<p>96 rows × 1 columns</p>\n",
       "</div>"
      ],
      "text/plain": [
       "             0\n",
       "0  -127.428571\n",
       "1  -127.428571\n",
       "2   -54.573633\n",
       "3  -127.428571\n",
       "4   -63.359041\n",
       "..         ...\n",
       "91  -55.947190\n",
       "92  -99.666803\n",
       "93  -47.638973\n",
       "94 -123.609122\n",
       "95  -48.000000\n",
       "\n",
       "[96 rows x 1 columns]"
      ]
     },
     "execution_count": 128,
     "metadata": {},
     "output_type": "execute_result"
    }
   ],
   "source": [
    "y_pred =pd.DataFrame(y_pred)\n",
    "y_pred"
   ]
  },
  {
   "cell_type": "code",
   "execution_count": 129,
   "id": "9d1c0a3c",
   "metadata": {},
   "outputs": [
    {
     "data": {
      "text/html": [
       "<div>\n",
       "<style scoped>\n",
       "    .dataframe tbody tr th:only-of-type {\n",
       "        vertical-align: middle;\n",
       "    }\n",
       "\n",
       "    .dataframe tbody tr th {\n",
       "        vertical-align: top;\n",
       "    }\n",
       "\n",
       "    .dataframe thead th {\n",
       "        text-align: right;\n",
       "    }\n",
       "</style>\n",
       "<table border=\"1\" class=\"dataframe\">\n",
       "  <thead>\n",
       "    <tr style=\"text-align: right;\">\n",
       "      <th></th>\n",
       "      <th>Y</th>\n",
       "    </tr>\n",
       "  </thead>\n",
       "  <tbody>\n",
       "    <tr>\n",
       "      <th>1074</th>\n",
       "      <td>-131.000000</td>\n",
       "    </tr>\n",
       "    <tr>\n",
       "      <th>1082</th>\n",
       "      <td>-131.000000</td>\n",
       "    </tr>\n",
       "    <tr>\n",
       "      <th>83</th>\n",
       "      <td>-29.531183</td>\n",
       "    </tr>\n",
       "    <tr>\n",
       "      <th>32</th>\n",
       "      <td>-94.939585</td>\n",
       "    </tr>\n",
       "    <tr>\n",
       "      <th>767</th>\n",
       "      <td>-32.000000</td>\n",
       "    </tr>\n",
       "    <tr>\n",
       "      <th>...</th>\n",
       "      <td>...</td>\n",
       "    </tr>\n",
       "    <tr>\n",
       "      <th>749</th>\n",
       "      <td>-37.277285</td>\n",
       "    </tr>\n",
       "    <tr>\n",
       "      <th>41</th>\n",
       "      <td>-59.908751</td>\n",
       "    </tr>\n",
       "    <tr>\n",
       "      <th>753</th>\n",
       "      <td>-41.250780</td>\n",
       "    </tr>\n",
       "    <tr>\n",
       "      <th>837</th>\n",
       "      <td>-97.628830</td>\n",
       "    </tr>\n",
       "    <tr>\n",
       "      <th>62</th>\n",
       "      <td>-55.000000</td>\n",
       "    </tr>\n",
       "  </tbody>\n",
       "</table>\n",
       "<p>96 rows × 1 columns</p>\n",
       "</div>"
      ],
      "text/plain": [
       "               Y\n",
       "1074 -131.000000\n",
       "1082 -131.000000\n",
       "83    -29.531183\n",
       "32    -94.939585\n",
       "767   -32.000000\n",
       "...          ...\n",
       "749   -37.277285\n",
       "41    -59.908751\n",
       "753   -41.250780\n",
       "837   -97.628830\n",
       "62    -55.000000\n",
       "\n",
       "[96 rows x 1 columns]"
      ]
     },
     "execution_count": 129,
     "metadata": {},
     "output_type": "execute_result"
    }
   ],
   "source": [
    "y_test = pd.DataFrame(y_test)\n",
    "y_test"
   ]
  },
  {
   "cell_type": "code",
   "execution_count": 131,
   "id": "3a699abb",
   "metadata": {},
   "outputs": [],
   "source": [
    "from sklearn.metrics import mean_squared_error"
   ]
  },
  {
   "cell_type": "code",
   "execution_count": 132,
   "id": "73981c23",
   "metadata": {},
   "outputs": [],
   "source": [
    "mse = mean_squared_error(y_test, y_pred, squared=False)"
   ]
  },
  {
   "cell_type": "code",
   "execution_count": 135,
   "id": "9d6cd82b",
   "metadata": {},
   "outputs": [
    {
     "name": "stdout",
     "output_type": "stream",
     "text": [
      "RMSE :  26.12382980295945\n"
     ]
    }
   ],
   "source": [
    "print(\"RMSE : \",mse)"
   ]
  },
  {
   "cell_type": "code",
   "execution_count": null,
   "id": "240cf54b",
   "metadata": {},
   "outputs": [],
   "source": []
  }
 ],
 "metadata": {
  "kernelspec": {
   "display_name": "Python 3 (ipykernel)",
   "language": "python",
   "name": "python3"
  },
  "language_info": {
   "codemirror_mode": {
    "name": "ipython",
    "version": 3
   },
   "file_extension": ".py",
   "mimetype": "text/x-python",
   "name": "python",
   "nbconvert_exporter": "python",
   "pygments_lexer": "ipython3",
   "version": "3.9.7"
  }
 },
 "nbformat": 4,
 "nbformat_minor": 5
}
